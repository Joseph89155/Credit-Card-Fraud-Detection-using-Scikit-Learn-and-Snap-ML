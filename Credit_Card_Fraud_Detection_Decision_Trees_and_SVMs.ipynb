{
  "nbformat": 4,
  "nbformat_minor": 0,
  "metadata": {
    "colab": {
      "provenance": [],
      "authorship_tag": "ABX9TyPfHqMvuBSD5MPqamAhsMEH",
      "include_colab_link": true
    },
    "kernelspec": {
      "name": "python3",
      "display_name": "Python 3"
    },
    "language_info": {
      "name": "python"
    }
  },
  "cells": [
    {
      "cell_type": "markdown",
      "metadata": {
        "id": "view-in-github",
        "colab_type": "text"
      },
      "source": [
        "<a href=\"https://colab.research.google.com/github/Joseph89155/Credit-Card-Fraud-Detection-using-Scikit-Learn-and-Snap-ML/blob/main/Credit_Card_Fraud_Detection_Decision_Trees_and_SVMs.ipynb\" target=\"_parent\"><img src=\"https://colab.research.google.com/assets/colab-badge.svg\" alt=\"Open In Colab\"/></a>"
      ]
    },
    {
      "cell_type": "markdown",
      "source": [
        "# 💳 Credit Card Fraud Detection using Scikit-Learn and Snap ML\n",
        "\n",
        "**Author:** Joseph Maina  \n",
        "**Date:** May 2025  \n",
        "**Tools Used:** Python, Scikit-Learn, Snap ML, Pandas, NumPy, Matplotlib, Seaborn  \n",
        "**Environment:** Google Colab\n",
        "\n",
        "## 📌 Project Description\n",
        "This self-guided machine learning project focuses on detecting fraudulent credit card transactions using supervised learning techniques. It uses a real-world dataset from Kaggle that contains anonymized credit card transaction data collected in September 2013.\n",
        "\n",
        "The goal is to:\n",
        "- Build two classification models (Decision Tree and Support Vector Machine)\n",
        "- Compare their performance using Scikit-Learn and Snap ML\n",
        "- Address class imbalance using weighted training\n",
        "- Evaluate performance using ROC-AUC and hinge loss metrics\n",
        "\n",
        "## 🎯 Objective\n",
        "To predict whether a given credit card transaction is **fraudulent (1)** or **legitimate (0)** by modeling the problem as a **binary classification task**.\n",
        "\n",
        "---\n"
      ],
      "metadata": {
        "id": "gojl5mA4Qaza"
      }
    },
    {
      "cell_type": "markdown",
      "source": [
        "# Upload the Dataset"
      ],
      "metadata": {
        "id": "CNva3jU_TE1q"
      }
    },
    {
      "cell_type": "code",
      "source": [
        "import pandas as pd\n",
        "\n",
        "# Load the CSV into a DataFrame\n",
        "df = pd.read_csv(\"creditcard.csv\")\n",
        "\n",
        "# Preview the data\n",
        "df.head()\n"
      ],
      "metadata": {
        "colab": {
          "base_uri": "https://localhost:8080/",
          "height": 236
        },
        "id": "t7xdCoWdTks7",
        "outputId": "19a4028d-e9b9-4aa4-94db-d3339221ec50"
      },
      "execution_count": 2,
      "outputs": [
        {
          "output_type": "execute_result",
          "data": {
            "text/plain": [
              "   Time        V1        V2        V3        V4        V5        V6        V7  \\\n",
              "0     0 -1.359807 -0.072781  2.536347  1.378155 -0.338321  0.462388  0.239599   \n",
              "1     0  1.191857  0.266151  0.166480  0.448154  0.060018 -0.082361 -0.078803   \n",
              "2     1 -1.358354 -1.340163  1.773209  0.379780 -0.503198  1.800499  0.791461   \n",
              "3     1 -0.966272 -0.185226  1.792993 -0.863291 -0.010309  1.247203  0.237609   \n",
              "4     2 -1.158233  0.877737  1.548718  0.403034 -0.407193  0.095921  0.592941   \n",
              "\n",
              "         V8        V9  ...       V21       V22       V23       V24       V25  \\\n",
              "0  0.098698  0.363787  ... -0.018307  0.277838 -0.110474  0.066928  0.128539   \n",
              "1  0.085102 -0.255425  ... -0.225775 -0.638672  0.101288 -0.339846  0.167170   \n",
              "2  0.247676 -1.514654  ...  0.247998  0.771679  0.909412 -0.689281 -0.327642   \n",
              "3  0.377436 -1.387024  ... -0.108300  0.005274 -0.190321 -1.175575  0.647376   \n",
              "4 -0.270533  0.817739  ... -0.009431  0.798278 -0.137458  0.141267 -0.206010   \n",
              "\n",
              "        V26       V27       V28  Amount  Class  \n",
              "0 -0.189115  0.133558 -0.021053  149.62    0.0  \n",
              "1  0.125895 -0.008983  0.014724    2.69    0.0  \n",
              "2 -0.139097 -0.055353 -0.059752  378.66    0.0  \n",
              "3 -0.221929  0.062723  0.061458  123.50    0.0  \n",
              "4  0.502292  0.219422  0.215153   69.99    0.0  \n",
              "\n",
              "[5 rows x 31 columns]"
            ],
            "text/html": [
              "\n",
              "  <div id=\"df-fff1298f-93cd-4b32-9fed-7bb6bdff71bb\" class=\"colab-df-container\">\n",
              "    <div>\n",
              "<style scoped>\n",
              "    .dataframe tbody tr th:only-of-type {\n",
              "        vertical-align: middle;\n",
              "    }\n",
              "\n",
              "    .dataframe tbody tr th {\n",
              "        vertical-align: top;\n",
              "    }\n",
              "\n",
              "    .dataframe thead th {\n",
              "        text-align: right;\n",
              "    }\n",
              "</style>\n",
              "<table border=\"1\" class=\"dataframe\">\n",
              "  <thead>\n",
              "    <tr style=\"text-align: right;\">\n",
              "      <th></th>\n",
              "      <th>Time</th>\n",
              "      <th>V1</th>\n",
              "      <th>V2</th>\n",
              "      <th>V3</th>\n",
              "      <th>V4</th>\n",
              "      <th>V5</th>\n",
              "      <th>V6</th>\n",
              "      <th>V7</th>\n",
              "      <th>V8</th>\n",
              "      <th>V9</th>\n",
              "      <th>...</th>\n",
              "      <th>V21</th>\n",
              "      <th>V22</th>\n",
              "      <th>V23</th>\n",
              "      <th>V24</th>\n",
              "      <th>V25</th>\n",
              "      <th>V26</th>\n",
              "      <th>V27</th>\n",
              "      <th>V28</th>\n",
              "      <th>Amount</th>\n",
              "      <th>Class</th>\n",
              "    </tr>\n",
              "  </thead>\n",
              "  <tbody>\n",
              "    <tr>\n",
              "      <th>0</th>\n",
              "      <td>0</td>\n",
              "      <td>-1.359807</td>\n",
              "      <td>-0.072781</td>\n",
              "      <td>2.536347</td>\n",
              "      <td>1.378155</td>\n",
              "      <td>-0.338321</td>\n",
              "      <td>0.462388</td>\n",
              "      <td>0.239599</td>\n",
              "      <td>0.098698</td>\n",
              "      <td>0.363787</td>\n",
              "      <td>...</td>\n",
              "      <td>-0.018307</td>\n",
              "      <td>0.277838</td>\n",
              "      <td>-0.110474</td>\n",
              "      <td>0.066928</td>\n",
              "      <td>0.128539</td>\n",
              "      <td>-0.189115</td>\n",
              "      <td>0.133558</td>\n",
              "      <td>-0.021053</td>\n",
              "      <td>149.62</td>\n",
              "      <td>0.0</td>\n",
              "    </tr>\n",
              "    <tr>\n",
              "      <th>1</th>\n",
              "      <td>0</td>\n",
              "      <td>1.191857</td>\n",
              "      <td>0.266151</td>\n",
              "      <td>0.166480</td>\n",
              "      <td>0.448154</td>\n",
              "      <td>0.060018</td>\n",
              "      <td>-0.082361</td>\n",
              "      <td>-0.078803</td>\n",
              "      <td>0.085102</td>\n",
              "      <td>-0.255425</td>\n",
              "      <td>...</td>\n",
              "      <td>-0.225775</td>\n",
              "      <td>-0.638672</td>\n",
              "      <td>0.101288</td>\n",
              "      <td>-0.339846</td>\n",
              "      <td>0.167170</td>\n",
              "      <td>0.125895</td>\n",
              "      <td>-0.008983</td>\n",
              "      <td>0.014724</td>\n",
              "      <td>2.69</td>\n",
              "      <td>0.0</td>\n",
              "    </tr>\n",
              "    <tr>\n",
              "      <th>2</th>\n",
              "      <td>1</td>\n",
              "      <td>-1.358354</td>\n",
              "      <td>-1.340163</td>\n",
              "      <td>1.773209</td>\n",
              "      <td>0.379780</td>\n",
              "      <td>-0.503198</td>\n",
              "      <td>1.800499</td>\n",
              "      <td>0.791461</td>\n",
              "      <td>0.247676</td>\n",
              "      <td>-1.514654</td>\n",
              "      <td>...</td>\n",
              "      <td>0.247998</td>\n",
              "      <td>0.771679</td>\n",
              "      <td>0.909412</td>\n",
              "      <td>-0.689281</td>\n",
              "      <td>-0.327642</td>\n",
              "      <td>-0.139097</td>\n",
              "      <td>-0.055353</td>\n",
              "      <td>-0.059752</td>\n",
              "      <td>378.66</td>\n",
              "      <td>0.0</td>\n",
              "    </tr>\n",
              "    <tr>\n",
              "      <th>3</th>\n",
              "      <td>1</td>\n",
              "      <td>-0.966272</td>\n",
              "      <td>-0.185226</td>\n",
              "      <td>1.792993</td>\n",
              "      <td>-0.863291</td>\n",
              "      <td>-0.010309</td>\n",
              "      <td>1.247203</td>\n",
              "      <td>0.237609</td>\n",
              "      <td>0.377436</td>\n",
              "      <td>-1.387024</td>\n",
              "      <td>...</td>\n",
              "      <td>-0.108300</td>\n",
              "      <td>0.005274</td>\n",
              "      <td>-0.190321</td>\n",
              "      <td>-1.175575</td>\n",
              "      <td>0.647376</td>\n",
              "      <td>-0.221929</td>\n",
              "      <td>0.062723</td>\n",
              "      <td>0.061458</td>\n",
              "      <td>123.50</td>\n",
              "      <td>0.0</td>\n",
              "    </tr>\n",
              "    <tr>\n",
              "      <th>4</th>\n",
              "      <td>2</td>\n",
              "      <td>-1.158233</td>\n",
              "      <td>0.877737</td>\n",
              "      <td>1.548718</td>\n",
              "      <td>0.403034</td>\n",
              "      <td>-0.407193</td>\n",
              "      <td>0.095921</td>\n",
              "      <td>0.592941</td>\n",
              "      <td>-0.270533</td>\n",
              "      <td>0.817739</td>\n",
              "      <td>...</td>\n",
              "      <td>-0.009431</td>\n",
              "      <td>0.798278</td>\n",
              "      <td>-0.137458</td>\n",
              "      <td>0.141267</td>\n",
              "      <td>-0.206010</td>\n",
              "      <td>0.502292</td>\n",
              "      <td>0.219422</td>\n",
              "      <td>0.215153</td>\n",
              "      <td>69.99</td>\n",
              "      <td>0.0</td>\n",
              "    </tr>\n",
              "  </tbody>\n",
              "</table>\n",
              "<p>5 rows × 31 columns</p>\n",
              "</div>\n",
              "    <div class=\"colab-df-buttons\">\n",
              "\n",
              "  <div class=\"colab-df-container\">\n",
              "    <button class=\"colab-df-convert\" onclick=\"convertToInteractive('df-fff1298f-93cd-4b32-9fed-7bb6bdff71bb')\"\n",
              "            title=\"Convert this dataframe to an interactive table.\"\n",
              "            style=\"display:none;\">\n",
              "\n",
              "  <svg xmlns=\"http://www.w3.org/2000/svg\" height=\"24px\" viewBox=\"0 -960 960 960\">\n",
              "    <path d=\"M120-120v-720h720v720H120Zm60-500h600v-160H180v160Zm220 220h160v-160H400v160Zm0 220h160v-160H400v160ZM180-400h160v-160H180v160Zm440 0h160v-160H620v160ZM180-180h160v-160H180v160Zm440 0h160v-160H620v160Z\"/>\n",
              "  </svg>\n",
              "    </button>\n",
              "\n",
              "  <style>\n",
              "    .colab-df-container {\n",
              "      display:flex;\n",
              "      gap: 12px;\n",
              "    }\n",
              "\n",
              "    .colab-df-convert {\n",
              "      background-color: #E8F0FE;\n",
              "      border: none;\n",
              "      border-radius: 50%;\n",
              "      cursor: pointer;\n",
              "      display: none;\n",
              "      fill: #1967D2;\n",
              "      height: 32px;\n",
              "      padding: 0 0 0 0;\n",
              "      width: 32px;\n",
              "    }\n",
              "\n",
              "    .colab-df-convert:hover {\n",
              "      background-color: #E2EBFA;\n",
              "      box-shadow: 0px 1px 2px rgba(60, 64, 67, 0.3), 0px 1px 3px 1px rgba(60, 64, 67, 0.15);\n",
              "      fill: #174EA6;\n",
              "    }\n",
              "\n",
              "    .colab-df-buttons div {\n",
              "      margin-bottom: 4px;\n",
              "    }\n",
              "\n",
              "    [theme=dark] .colab-df-convert {\n",
              "      background-color: #3B4455;\n",
              "      fill: #D2E3FC;\n",
              "    }\n",
              "\n",
              "    [theme=dark] .colab-df-convert:hover {\n",
              "      background-color: #434B5C;\n",
              "      box-shadow: 0px 1px 3px 1px rgba(0, 0, 0, 0.15);\n",
              "      filter: drop-shadow(0px 1px 2px rgba(0, 0, 0, 0.3));\n",
              "      fill: #FFFFFF;\n",
              "    }\n",
              "  </style>\n",
              "\n",
              "    <script>\n",
              "      const buttonEl =\n",
              "        document.querySelector('#df-fff1298f-93cd-4b32-9fed-7bb6bdff71bb button.colab-df-convert');\n",
              "      buttonEl.style.display =\n",
              "        google.colab.kernel.accessAllowed ? 'block' : 'none';\n",
              "\n",
              "      async function convertToInteractive(key) {\n",
              "        const element = document.querySelector('#df-fff1298f-93cd-4b32-9fed-7bb6bdff71bb');\n",
              "        const dataTable =\n",
              "          await google.colab.kernel.invokeFunction('convertToInteractive',\n",
              "                                                    [key], {});\n",
              "        if (!dataTable) return;\n",
              "\n",
              "        const docLinkHtml = 'Like what you see? Visit the ' +\n",
              "          '<a target=\"_blank\" href=https://colab.research.google.com/notebooks/data_table.ipynb>data table notebook</a>'\n",
              "          + ' to learn more about interactive tables.';\n",
              "        element.innerHTML = '';\n",
              "        dataTable['output_type'] = 'display_data';\n",
              "        await google.colab.output.renderOutput(dataTable, element);\n",
              "        const docLink = document.createElement('div');\n",
              "        docLink.innerHTML = docLinkHtml;\n",
              "        element.appendChild(docLink);\n",
              "      }\n",
              "    </script>\n",
              "  </div>\n",
              "\n",
              "\n",
              "    <div id=\"df-5ec39cc7-77c6-4a0d-9746-7a0dbfcb15c9\">\n",
              "      <button class=\"colab-df-quickchart\" onclick=\"quickchart('df-5ec39cc7-77c6-4a0d-9746-7a0dbfcb15c9')\"\n",
              "                title=\"Suggest charts\"\n",
              "                style=\"display:none;\">\n",
              "\n",
              "<svg xmlns=\"http://www.w3.org/2000/svg\" height=\"24px\"viewBox=\"0 0 24 24\"\n",
              "     width=\"24px\">\n",
              "    <g>\n",
              "        <path d=\"M19 3H5c-1.1 0-2 .9-2 2v14c0 1.1.9 2 2 2h14c1.1 0 2-.9 2-2V5c0-1.1-.9-2-2-2zM9 17H7v-7h2v7zm4 0h-2V7h2v10zm4 0h-2v-4h2v4z\"/>\n",
              "    </g>\n",
              "</svg>\n",
              "      </button>\n",
              "\n",
              "<style>\n",
              "  .colab-df-quickchart {\n",
              "      --bg-color: #E8F0FE;\n",
              "      --fill-color: #1967D2;\n",
              "      --hover-bg-color: #E2EBFA;\n",
              "      --hover-fill-color: #174EA6;\n",
              "      --disabled-fill-color: #AAA;\n",
              "      --disabled-bg-color: #DDD;\n",
              "  }\n",
              "\n",
              "  [theme=dark] .colab-df-quickchart {\n",
              "      --bg-color: #3B4455;\n",
              "      --fill-color: #D2E3FC;\n",
              "      --hover-bg-color: #434B5C;\n",
              "      --hover-fill-color: #FFFFFF;\n",
              "      --disabled-bg-color: #3B4455;\n",
              "      --disabled-fill-color: #666;\n",
              "  }\n",
              "\n",
              "  .colab-df-quickchart {\n",
              "    background-color: var(--bg-color);\n",
              "    border: none;\n",
              "    border-radius: 50%;\n",
              "    cursor: pointer;\n",
              "    display: none;\n",
              "    fill: var(--fill-color);\n",
              "    height: 32px;\n",
              "    padding: 0;\n",
              "    width: 32px;\n",
              "  }\n",
              "\n",
              "  .colab-df-quickchart:hover {\n",
              "    background-color: var(--hover-bg-color);\n",
              "    box-shadow: 0 1px 2px rgba(60, 64, 67, 0.3), 0 1px 3px 1px rgba(60, 64, 67, 0.15);\n",
              "    fill: var(--button-hover-fill-color);\n",
              "  }\n",
              "\n",
              "  .colab-df-quickchart-complete:disabled,\n",
              "  .colab-df-quickchart-complete:disabled:hover {\n",
              "    background-color: var(--disabled-bg-color);\n",
              "    fill: var(--disabled-fill-color);\n",
              "    box-shadow: none;\n",
              "  }\n",
              "\n",
              "  .colab-df-spinner {\n",
              "    border: 2px solid var(--fill-color);\n",
              "    border-color: transparent;\n",
              "    border-bottom-color: var(--fill-color);\n",
              "    animation:\n",
              "      spin 1s steps(1) infinite;\n",
              "  }\n",
              "\n",
              "  @keyframes spin {\n",
              "    0% {\n",
              "      border-color: transparent;\n",
              "      border-bottom-color: var(--fill-color);\n",
              "      border-left-color: var(--fill-color);\n",
              "    }\n",
              "    20% {\n",
              "      border-color: transparent;\n",
              "      border-left-color: var(--fill-color);\n",
              "      border-top-color: var(--fill-color);\n",
              "    }\n",
              "    30% {\n",
              "      border-color: transparent;\n",
              "      border-left-color: var(--fill-color);\n",
              "      border-top-color: var(--fill-color);\n",
              "      border-right-color: var(--fill-color);\n",
              "    }\n",
              "    40% {\n",
              "      border-color: transparent;\n",
              "      border-right-color: var(--fill-color);\n",
              "      border-top-color: var(--fill-color);\n",
              "    }\n",
              "    60% {\n",
              "      border-color: transparent;\n",
              "      border-right-color: var(--fill-color);\n",
              "    }\n",
              "    80% {\n",
              "      border-color: transparent;\n",
              "      border-right-color: var(--fill-color);\n",
              "      border-bottom-color: var(--fill-color);\n",
              "    }\n",
              "    90% {\n",
              "      border-color: transparent;\n",
              "      border-bottom-color: var(--fill-color);\n",
              "    }\n",
              "  }\n",
              "</style>\n",
              "\n",
              "      <script>\n",
              "        async function quickchart(key) {\n",
              "          const quickchartButtonEl =\n",
              "            document.querySelector('#' + key + ' button');\n",
              "          quickchartButtonEl.disabled = true;  // To prevent multiple clicks.\n",
              "          quickchartButtonEl.classList.add('colab-df-spinner');\n",
              "          try {\n",
              "            const charts = await google.colab.kernel.invokeFunction(\n",
              "                'suggestCharts', [key], {});\n",
              "          } catch (error) {\n",
              "            console.error('Error during call to suggestCharts:', error);\n",
              "          }\n",
              "          quickchartButtonEl.classList.remove('colab-df-spinner');\n",
              "          quickchartButtonEl.classList.add('colab-df-quickchart-complete');\n",
              "        }\n",
              "        (() => {\n",
              "          let quickchartButtonEl =\n",
              "            document.querySelector('#df-5ec39cc7-77c6-4a0d-9746-7a0dbfcb15c9 button');\n",
              "          quickchartButtonEl.style.display =\n",
              "            google.colab.kernel.accessAllowed ? 'block' : 'none';\n",
              "        })();\n",
              "      </script>\n",
              "    </div>\n",
              "\n",
              "    </div>\n",
              "  </div>\n"
            ],
            "application/vnd.google.colaboratory.intrinsic+json": {
              "type": "dataframe",
              "variable_name": "df"
            }
          },
          "metadata": {},
          "execution_count": 2
        }
      ]
    },
    {
      "cell_type": "code",
      "source": [
        "# Preview the data\n",
        "df.tail()"
      ],
      "metadata": {
        "colab": {
          "base_uri": "https://localhost:8080/",
          "height": 236
        },
        "id": "80MZ-fIyU2IW",
        "outputId": "312e617d-55a9-430e-f3ea-18d5c9bedcae"
      },
      "execution_count": 3,
      "outputs": [
        {
          "output_type": "execute_result",
          "data": {
            "text/plain": [
              "        Time        V1        V2        V3        V4        V5        V6  \\\n",
              "37717  39076  1.117749 -1.544665 -0.145357 -1.307482 -1.392833 -0.630833   \n",
              "37718  39076  0.758729 -0.483875  0.125488  1.449159 -0.639231 -0.805011   \n",
              "37719  39076 -0.474907  0.835804  0.075878 -1.251283  2.492736  3.385419   \n",
              "37720  39077 -2.682780 -2.028562  1.745223 -1.157952 -0.143692 -0.807503   \n",
              "37721  39077  1.106292 -0.525727  0.926440  0.817696 -1.122177 -0.062703   \n",
              "\n",
              "             V7        V8        V9  ...       V21       V22       V23  \\\n",
              "37717 -0.563659 -0.038716 -2.173892  ... -0.334155 -1.108220  0.070461   \n",
              "37718  0.406994 -0.221212  0.068777  ...  0.210712  0.063091 -0.316636   \n",
              "37719  0.169507  0.934749 -0.584224  ... -0.270398 -0.866353 -0.085720   \n",
              "37720 -1.154141  0.436917 -0.293442  ...  0.353396  0.968145 -0.776459   \n",
              "37721       NaN       NaN       NaN  ...       NaN       NaN       NaN   \n",
              "\n",
              "            V24       V25       V26       V27       V28  Amount  Class  \n",
              "37717  0.115485  0.078726 -0.460844 -0.029143  0.029028  183.19    0.0  \n",
              "37718  0.394472  0.558720 -0.304812 -0.033008  0.063331  250.00    0.0  \n",
              "37719  0.986274 -0.082934  0.084198  0.310936  0.170342    1.49    0.0  \n",
              "37720  0.182662 -0.000427 -0.209058  0.256991 -0.585781  102.00    0.0  \n",
              "37721       NaN       NaN       NaN       NaN       NaN     NaN    NaN  \n",
              "\n",
              "[5 rows x 31 columns]"
            ],
            "text/html": [
              "\n",
              "  <div id=\"df-0c5f8c4d-86ff-4164-b304-e24d1df25d7a\" class=\"colab-df-container\">\n",
              "    <div>\n",
              "<style scoped>\n",
              "    .dataframe tbody tr th:only-of-type {\n",
              "        vertical-align: middle;\n",
              "    }\n",
              "\n",
              "    .dataframe tbody tr th {\n",
              "        vertical-align: top;\n",
              "    }\n",
              "\n",
              "    .dataframe thead th {\n",
              "        text-align: right;\n",
              "    }\n",
              "</style>\n",
              "<table border=\"1\" class=\"dataframe\">\n",
              "  <thead>\n",
              "    <tr style=\"text-align: right;\">\n",
              "      <th></th>\n",
              "      <th>Time</th>\n",
              "      <th>V1</th>\n",
              "      <th>V2</th>\n",
              "      <th>V3</th>\n",
              "      <th>V4</th>\n",
              "      <th>V5</th>\n",
              "      <th>V6</th>\n",
              "      <th>V7</th>\n",
              "      <th>V8</th>\n",
              "      <th>V9</th>\n",
              "      <th>...</th>\n",
              "      <th>V21</th>\n",
              "      <th>V22</th>\n",
              "      <th>V23</th>\n",
              "      <th>V24</th>\n",
              "      <th>V25</th>\n",
              "      <th>V26</th>\n",
              "      <th>V27</th>\n",
              "      <th>V28</th>\n",
              "      <th>Amount</th>\n",
              "      <th>Class</th>\n",
              "    </tr>\n",
              "  </thead>\n",
              "  <tbody>\n",
              "    <tr>\n",
              "      <th>37717</th>\n",
              "      <td>39076</td>\n",
              "      <td>1.117749</td>\n",
              "      <td>-1.544665</td>\n",
              "      <td>-0.145357</td>\n",
              "      <td>-1.307482</td>\n",
              "      <td>-1.392833</td>\n",
              "      <td>-0.630833</td>\n",
              "      <td>-0.563659</td>\n",
              "      <td>-0.038716</td>\n",
              "      <td>-2.173892</td>\n",
              "      <td>...</td>\n",
              "      <td>-0.334155</td>\n",
              "      <td>-1.108220</td>\n",
              "      <td>0.070461</td>\n",
              "      <td>0.115485</td>\n",
              "      <td>0.078726</td>\n",
              "      <td>-0.460844</td>\n",
              "      <td>-0.029143</td>\n",
              "      <td>0.029028</td>\n",
              "      <td>183.19</td>\n",
              "      <td>0.0</td>\n",
              "    </tr>\n",
              "    <tr>\n",
              "      <th>37718</th>\n",
              "      <td>39076</td>\n",
              "      <td>0.758729</td>\n",
              "      <td>-0.483875</td>\n",
              "      <td>0.125488</td>\n",
              "      <td>1.449159</td>\n",
              "      <td>-0.639231</td>\n",
              "      <td>-0.805011</td>\n",
              "      <td>0.406994</td>\n",
              "      <td>-0.221212</td>\n",
              "      <td>0.068777</td>\n",
              "      <td>...</td>\n",
              "      <td>0.210712</td>\n",
              "      <td>0.063091</td>\n",
              "      <td>-0.316636</td>\n",
              "      <td>0.394472</td>\n",
              "      <td>0.558720</td>\n",
              "      <td>-0.304812</td>\n",
              "      <td>-0.033008</td>\n",
              "      <td>0.063331</td>\n",
              "      <td>250.00</td>\n",
              "      <td>0.0</td>\n",
              "    </tr>\n",
              "    <tr>\n",
              "      <th>37719</th>\n",
              "      <td>39076</td>\n",
              "      <td>-0.474907</td>\n",
              "      <td>0.835804</td>\n",
              "      <td>0.075878</td>\n",
              "      <td>-1.251283</td>\n",
              "      <td>2.492736</td>\n",
              "      <td>3.385419</td>\n",
              "      <td>0.169507</td>\n",
              "      <td>0.934749</td>\n",
              "      <td>-0.584224</td>\n",
              "      <td>...</td>\n",
              "      <td>-0.270398</td>\n",
              "      <td>-0.866353</td>\n",
              "      <td>-0.085720</td>\n",
              "      <td>0.986274</td>\n",
              "      <td>-0.082934</td>\n",
              "      <td>0.084198</td>\n",
              "      <td>0.310936</td>\n",
              "      <td>0.170342</td>\n",
              "      <td>1.49</td>\n",
              "      <td>0.0</td>\n",
              "    </tr>\n",
              "    <tr>\n",
              "      <th>37720</th>\n",
              "      <td>39077</td>\n",
              "      <td>-2.682780</td>\n",
              "      <td>-2.028562</td>\n",
              "      <td>1.745223</td>\n",
              "      <td>-1.157952</td>\n",
              "      <td>-0.143692</td>\n",
              "      <td>-0.807503</td>\n",
              "      <td>-1.154141</td>\n",
              "      <td>0.436917</td>\n",
              "      <td>-0.293442</td>\n",
              "      <td>...</td>\n",
              "      <td>0.353396</td>\n",
              "      <td>0.968145</td>\n",
              "      <td>-0.776459</td>\n",
              "      <td>0.182662</td>\n",
              "      <td>-0.000427</td>\n",
              "      <td>-0.209058</td>\n",
              "      <td>0.256991</td>\n",
              "      <td>-0.585781</td>\n",
              "      <td>102.00</td>\n",
              "      <td>0.0</td>\n",
              "    </tr>\n",
              "    <tr>\n",
              "      <th>37721</th>\n",
              "      <td>39077</td>\n",
              "      <td>1.106292</td>\n",
              "      <td>-0.525727</td>\n",
              "      <td>0.926440</td>\n",
              "      <td>0.817696</td>\n",
              "      <td>-1.122177</td>\n",
              "      <td>-0.062703</td>\n",
              "      <td>NaN</td>\n",
              "      <td>NaN</td>\n",
              "      <td>NaN</td>\n",
              "      <td>...</td>\n",
              "      <td>NaN</td>\n",
              "      <td>NaN</td>\n",
              "      <td>NaN</td>\n",
              "      <td>NaN</td>\n",
              "      <td>NaN</td>\n",
              "      <td>NaN</td>\n",
              "      <td>NaN</td>\n",
              "      <td>NaN</td>\n",
              "      <td>NaN</td>\n",
              "      <td>NaN</td>\n",
              "    </tr>\n",
              "  </tbody>\n",
              "</table>\n",
              "<p>5 rows × 31 columns</p>\n",
              "</div>\n",
              "    <div class=\"colab-df-buttons\">\n",
              "\n",
              "  <div class=\"colab-df-container\">\n",
              "    <button class=\"colab-df-convert\" onclick=\"convertToInteractive('df-0c5f8c4d-86ff-4164-b304-e24d1df25d7a')\"\n",
              "            title=\"Convert this dataframe to an interactive table.\"\n",
              "            style=\"display:none;\">\n",
              "\n",
              "  <svg xmlns=\"http://www.w3.org/2000/svg\" height=\"24px\" viewBox=\"0 -960 960 960\">\n",
              "    <path d=\"M120-120v-720h720v720H120Zm60-500h600v-160H180v160Zm220 220h160v-160H400v160Zm0 220h160v-160H400v160ZM180-400h160v-160H180v160Zm440 0h160v-160H620v160ZM180-180h160v-160H180v160Zm440 0h160v-160H620v160Z\"/>\n",
              "  </svg>\n",
              "    </button>\n",
              "\n",
              "  <style>\n",
              "    .colab-df-container {\n",
              "      display:flex;\n",
              "      gap: 12px;\n",
              "    }\n",
              "\n",
              "    .colab-df-convert {\n",
              "      background-color: #E8F0FE;\n",
              "      border: none;\n",
              "      border-radius: 50%;\n",
              "      cursor: pointer;\n",
              "      display: none;\n",
              "      fill: #1967D2;\n",
              "      height: 32px;\n",
              "      padding: 0 0 0 0;\n",
              "      width: 32px;\n",
              "    }\n",
              "\n",
              "    .colab-df-convert:hover {\n",
              "      background-color: #E2EBFA;\n",
              "      box-shadow: 0px 1px 2px rgba(60, 64, 67, 0.3), 0px 1px 3px 1px rgba(60, 64, 67, 0.15);\n",
              "      fill: #174EA6;\n",
              "    }\n",
              "\n",
              "    .colab-df-buttons div {\n",
              "      margin-bottom: 4px;\n",
              "    }\n",
              "\n",
              "    [theme=dark] .colab-df-convert {\n",
              "      background-color: #3B4455;\n",
              "      fill: #D2E3FC;\n",
              "    }\n",
              "\n",
              "    [theme=dark] .colab-df-convert:hover {\n",
              "      background-color: #434B5C;\n",
              "      box-shadow: 0px 1px 3px 1px rgba(0, 0, 0, 0.15);\n",
              "      filter: drop-shadow(0px 1px 2px rgba(0, 0, 0, 0.3));\n",
              "      fill: #FFFFFF;\n",
              "    }\n",
              "  </style>\n",
              "\n",
              "    <script>\n",
              "      const buttonEl =\n",
              "        document.querySelector('#df-0c5f8c4d-86ff-4164-b304-e24d1df25d7a button.colab-df-convert');\n",
              "      buttonEl.style.display =\n",
              "        google.colab.kernel.accessAllowed ? 'block' : 'none';\n",
              "\n",
              "      async function convertToInteractive(key) {\n",
              "        const element = document.querySelector('#df-0c5f8c4d-86ff-4164-b304-e24d1df25d7a');\n",
              "        const dataTable =\n",
              "          await google.colab.kernel.invokeFunction('convertToInteractive',\n",
              "                                                    [key], {});\n",
              "        if (!dataTable) return;\n",
              "\n",
              "        const docLinkHtml = 'Like what you see? Visit the ' +\n",
              "          '<a target=\"_blank\" href=https://colab.research.google.com/notebooks/data_table.ipynb>data table notebook</a>'\n",
              "          + ' to learn more about interactive tables.';\n",
              "        element.innerHTML = '';\n",
              "        dataTable['output_type'] = 'display_data';\n",
              "        await google.colab.output.renderOutput(dataTable, element);\n",
              "        const docLink = document.createElement('div');\n",
              "        docLink.innerHTML = docLinkHtml;\n",
              "        element.appendChild(docLink);\n",
              "      }\n",
              "    </script>\n",
              "  </div>\n",
              "\n",
              "\n",
              "    <div id=\"df-c47b5aec-d833-4fd8-ad4a-48abdee982c1\">\n",
              "      <button class=\"colab-df-quickchart\" onclick=\"quickchart('df-c47b5aec-d833-4fd8-ad4a-48abdee982c1')\"\n",
              "                title=\"Suggest charts\"\n",
              "                style=\"display:none;\">\n",
              "\n",
              "<svg xmlns=\"http://www.w3.org/2000/svg\" height=\"24px\"viewBox=\"0 0 24 24\"\n",
              "     width=\"24px\">\n",
              "    <g>\n",
              "        <path d=\"M19 3H5c-1.1 0-2 .9-2 2v14c0 1.1.9 2 2 2h14c1.1 0 2-.9 2-2V5c0-1.1-.9-2-2-2zM9 17H7v-7h2v7zm4 0h-2V7h2v10zm4 0h-2v-4h2v4z\"/>\n",
              "    </g>\n",
              "</svg>\n",
              "      </button>\n",
              "\n",
              "<style>\n",
              "  .colab-df-quickchart {\n",
              "      --bg-color: #E8F0FE;\n",
              "      --fill-color: #1967D2;\n",
              "      --hover-bg-color: #E2EBFA;\n",
              "      --hover-fill-color: #174EA6;\n",
              "      --disabled-fill-color: #AAA;\n",
              "      --disabled-bg-color: #DDD;\n",
              "  }\n",
              "\n",
              "  [theme=dark] .colab-df-quickchart {\n",
              "      --bg-color: #3B4455;\n",
              "      --fill-color: #D2E3FC;\n",
              "      --hover-bg-color: #434B5C;\n",
              "      --hover-fill-color: #FFFFFF;\n",
              "      --disabled-bg-color: #3B4455;\n",
              "      --disabled-fill-color: #666;\n",
              "  }\n",
              "\n",
              "  .colab-df-quickchart {\n",
              "    background-color: var(--bg-color);\n",
              "    border: none;\n",
              "    border-radius: 50%;\n",
              "    cursor: pointer;\n",
              "    display: none;\n",
              "    fill: var(--fill-color);\n",
              "    height: 32px;\n",
              "    padding: 0;\n",
              "    width: 32px;\n",
              "  }\n",
              "\n",
              "  .colab-df-quickchart:hover {\n",
              "    background-color: var(--hover-bg-color);\n",
              "    box-shadow: 0 1px 2px rgba(60, 64, 67, 0.3), 0 1px 3px 1px rgba(60, 64, 67, 0.15);\n",
              "    fill: var(--button-hover-fill-color);\n",
              "  }\n",
              "\n",
              "  .colab-df-quickchart-complete:disabled,\n",
              "  .colab-df-quickchart-complete:disabled:hover {\n",
              "    background-color: var(--disabled-bg-color);\n",
              "    fill: var(--disabled-fill-color);\n",
              "    box-shadow: none;\n",
              "  }\n",
              "\n",
              "  .colab-df-spinner {\n",
              "    border: 2px solid var(--fill-color);\n",
              "    border-color: transparent;\n",
              "    border-bottom-color: var(--fill-color);\n",
              "    animation:\n",
              "      spin 1s steps(1) infinite;\n",
              "  }\n",
              "\n",
              "  @keyframes spin {\n",
              "    0% {\n",
              "      border-color: transparent;\n",
              "      border-bottom-color: var(--fill-color);\n",
              "      border-left-color: var(--fill-color);\n",
              "    }\n",
              "    20% {\n",
              "      border-color: transparent;\n",
              "      border-left-color: var(--fill-color);\n",
              "      border-top-color: var(--fill-color);\n",
              "    }\n",
              "    30% {\n",
              "      border-color: transparent;\n",
              "      border-left-color: var(--fill-color);\n",
              "      border-top-color: var(--fill-color);\n",
              "      border-right-color: var(--fill-color);\n",
              "    }\n",
              "    40% {\n",
              "      border-color: transparent;\n",
              "      border-right-color: var(--fill-color);\n",
              "      border-top-color: var(--fill-color);\n",
              "    }\n",
              "    60% {\n",
              "      border-color: transparent;\n",
              "      border-right-color: var(--fill-color);\n",
              "    }\n",
              "    80% {\n",
              "      border-color: transparent;\n",
              "      border-right-color: var(--fill-color);\n",
              "      border-bottom-color: var(--fill-color);\n",
              "    }\n",
              "    90% {\n",
              "      border-color: transparent;\n",
              "      border-bottom-color: var(--fill-color);\n",
              "    }\n",
              "  }\n",
              "</style>\n",
              "\n",
              "      <script>\n",
              "        async function quickchart(key) {\n",
              "          const quickchartButtonEl =\n",
              "            document.querySelector('#' + key + ' button');\n",
              "          quickchartButtonEl.disabled = true;  // To prevent multiple clicks.\n",
              "          quickchartButtonEl.classList.add('colab-df-spinner');\n",
              "          try {\n",
              "            const charts = await google.colab.kernel.invokeFunction(\n",
              "                'suggestCharts', [key], {});\n",
              "          } catch (error) {\n",
              "            console.error('Error during call to suggestCharts:', error);\n",
              "          }\n",
              "          quickchartButtonEl.classList.remove('colab-df-spinner');\n",
              "          quickchartButtonEl.classList.add('colab-df-quickchart-complete');\n",
              "        }\n",
              "        (() => {\n",
              "          let quickchartButtonEl =\n",
              "            document.querySelector('#df-c47b5aec-d833-4fd8-ad4a-48abdee982c1 button');\n",
              "          quickchartButtonEl.style.display =\n",
              "            google.colab.kernel.accessAllowed ? 'block' : 'none';\n",
              "        })();\n",
              "      </script>\n",
              "    </div>\n",
              "\n",
              "    </div>\n",
              "  </div>\n"
            ],
            "application/vnd.google.colaboratory.intrinsic+json": {
              "type": "dataframe"
            }
          },
          "metadata": {},
          "execution_count": 3
        }
      ]
    },
    {
      "cell_type": "markdown",
      "source": [
        "# Importing Required Libraries"
      ],
      "metadata": {
        "id": "u9ZZQLP_VJkW"
      }
    },
    {
      "cell_type": "code",
      "source": [
        "# Basic data manipulation and analysis\n",
        "import numpy as np\n",
        "import pandas as pd\n",
        "\n",
        "# Data visualization\n",
        "import matplotlib.pyplot as plt\n",
        "import seaborn as sns\n",
        "\n",
        "# Machine Learning models and utilities\n",
        "from sklearn.tree import DecisionTreeClassifier\n",
        "from sklearn.svm import LinearSVC\n",
        "from sklearn.model_selection import train_test_split\n",
        "from sklearn.preprocessing import StandardScaler\n",
        "from sklearn.metrics import roc_auc_score, hinge_loss\n",
        "from sklearn.utils.class_weight import compute_sample_weight\n",
        "\n",
        "# Install Snap ML\n",
        "!pip install snapml\n",
        "\n",
        "# Snap ML\n",
        "from snapml import DecisionTreeClassifier as SnapDecisionTreeClassifier\n",
        "from snapml import SupportVectorMachine\n",
        "\n",
        "# Time tracking\n",
        "import time\n",
        "\n",
        "# Misc\n",
        "import warnings\n",
        "warnings.filterwarnings('ignore')  # Optional: suppress warnings for cleaner output\n"
      ],
      "metadata": {
        "colab": {
          "base_uri": "https://localhost:8080/"
        },
        "id": "uLzq6k2pVOJg",
        "outputId": "302290f6-3e28-41cd-c55d-c0a715388989"
      },
      "execution_count": 6,
      "outputs": [
        {
          "output_type": "stream",
          "name": "stdout",
          "text": [
            "Collecting snapml\n",
            "  Downloading snapml-1.16.4-cp311-cp311-manylinux_2_28_x86_64.whl.metadata (1.6 kB)\n",
            "Requirement already satisfied: scikit-learn in /usr/local/lib/python3.11/dist-packages (from snapml) (1.6.1)\n",
            "Requirement already satisfied: scipy in /usr/local/lib/python3.11/dist-packages (from snapml) (1.15.3)\n",
            "Requirement already satisfied: numpy in /usr/local/lib/python3.11/dist-packages (from snapml) (2.0.2)\n",
            "Requirement already satisfied: joblib>=1.2.0 in /usr/local/lib/python3.11/dist-packages (from scikit-learn->snapml) (1.5.0)\n",
            "Requirement already satisfied: threadpoolctl>=3.1.0 in /usr/local/lib/python3.11/dist-packages (from scikit-learn->snapml) (3.6.0)\n",
            "Downloading snapml-1.16.4-cp311-cp311-manylinux_2_28_x86_64.whl (13.6 MB)\n",
            "\u001b[2K   \u001b[90m━━━━━━━━━━━━━━━━━━━━━━━━━━━━━━━━━━━━━━━━\u001b[0m \u001b[32m13.6/13.6 MB\u001b[0m \u001b[31m31.8 MB/s\u001b[0m eta \u001b[36m0:00:00\u001b[0m\n",
            "\u001b[?25hInstalling collected packages: snapml\n",
            "Successfully installed snapml-1.16.4\n"
          ]
        }
      ]
    },
    {
      "cell_type": "code",
      "source": [],
      "metadata": {
        "id": "gowW0RQ4Vd-r"
      },
      "execution_count": null,
      "outputs": []
    },
    {
      "cell_type": "markdown",
      "source": [
        "# Dataset Analysis\n",
        "In this step, I'll:\n",
        "\n",
        "1 Display the structure of the dataset\n",
        "\n",
        "2 Show summary statistics\n",
        "\n",
        "3 Check class distribution (fraud vs legitimate)\n",
        "\n",
        "4 Plot a histogram of transaction amounts\n",
        "\n",
        "5 Print the 90th percentile of the Amount column\n",
        "\n",
        "6 Get the min and max values of the Amount column\n",
        "\n"
      ],
      "metadata": {
        "id": "Yn1PzvHAVzFi"
      }
    },
    {
      "cell_type": "code",
      "source": [
        "import numpy as np\n",
        "import matplotlib.pyplot as plt\n",
        "import seaborn as sns\n",
        "\n",
        "# Show basic structure\n",
        "print(\"📌 Dataset shape:\", df.shape)\n",
        "print(\"\\n📄 Columns:\\n\", df.columns.tolist())"
      ],
      "metadata": {
        "colab": {
          "base_uri": "https://localhost:8080/"
        },
        "id": "vMwc94LAWQzX",
        "outputId": "d111c1ba-fe88-45ab-f7e4-54d63eeeaadf"
      },
      "execution_count": 7,
      "outputs": [
        {
          "output_type": "stream",
          "name": "stdout",
          "text": [
            "📌 Dataset shape: (37722, 31)\n",
            "\n",
            "📄 Columns:\n",
            " ['Time', 'V1', 'V2', 'V3', 'V4', 'V5', 'V6', 'V7', 'V8', 'V9', 'V10', 'V11', 'V12', 'V13', 'V14', 'V15', 'V16', 'V17', 'V18', 'V19', 'V20', 'V21', 'V22', 'V23', 'V24', 'V25', 'V26', 'V27', 'V28', 'Amount', 'Class']\n"
          ]
        }
      ]
    },
    {
      "cell_type": "code",
      "source": [
        "# Check for null values\n",
        "print(\"\\n🔍 Missing values:\\n\", df.isnull().sum())"
      ],
      "metadata": {
        "colab": {
          "base_uri": "https://localhost:8080/"
        },
        "id": "0G2u-NGcWdGC",
        "outputId": "3eeb5c24-c504-49c6-fec9-0abfe76ee3fe"
      },
      "execution_count": 17,
      "outputs": [
        {
          "output_type": "stream",
          "name": "stdout",
          "text": [
            "\n",
            "🔍 Missing values:\n",
            " Time      0\n",
            "V1        0\n",
            "V2        0\n",
            "V3        0\n",
            "V4        0\n",
            "V5        0\n",
            "V6        0\n",
            "V7        0\n",
            "V8        0\n",
            "V9        0\n",
            "V10       0\n",
            "V11       0\n",
            "V12       0\n",
            "V13       0\n",
            "V14       0\n",
            "V15       0\n",
            "V16       0\n",
            "V17       0\n",
            "V18       0\n",
            "V19       0\n",
            "V20       0\n",
            "V21       0\n",
            "V22       0\n",
            "V23       0\n",
            "V24       0\n",
            "V25       0\n",
            "V26       0\n",
            "V27       0\n",
            "V28       0\n",
            "Amount    0\n",
            "Class     0\n",
            "dtype: int64\n"
          ]
        }
      ]
    },
    {
      "cell_type": "code",
      "source": [
        "# Drop rows with any missing values\n",
        "df.dropna(inplace=True)"
      ],
      "metadata": {
        "id": "yYSQPegHW-l_"
      },
      "execution_count": 18,
      "outputs": []
    },
    {
      "cell_type": "code",
      "source": [
        "# Confirm that all missing values are gone\n",
        "print(\"🔁 Missing values after cleaning:\\n\", df.isnull().sum())"
      ],
      "metadata": {
        "colab": {
          "base_uri": "https://localhost:8080/"
        },
        "id": "2ymUPfrbXD1r",
        "outputId": "fa453157-9ced-4a63-f233-339196d8e26b"
      },
      "execution_count": 19,
      "outputs": [
        {
          "output_type": "stream",
          "name": "stdout",
          "text": [
            "🔁 Missing values after cleaning:\n",
            " Time      0\n",
            "V1        0\n",
            "V2        0\n",
            "V3        0\n",
            "V4        0\n",
            "V5        0\n",
            "V6        0\n",
            "V7        0\n",
            "V8        0\n",
            "V9        0\n",
            "V10       0\n",
            "V11       0\n",
            "V12       0\n",
            "V13       0\n",
            "V14       0\n",
            "V15       0\n",
            "V16       0\n",
            "V17       0\n",
            "V18       0\n",
            "V19       0\n",
            "V20       0\n",
            "V21       0\n",
            "V22       0\n",
            "V23       0\n",
            "V24       0\n",
            "V25       0\n",
            "V26       0\n",
            "V27       0\n",
            "V28       0\n",
            "Amount    0\n",
            "Class     0\n",
            "dtype: int64\n"
          ]
        }
      ]
    },
    {
      "cell_type": "code",
      "source": [
        "# Show dataset types and memory usage\n",
        "print(\"\\n🧠 Data info:\")\n",
        "df.info()"
      ],
      "metadata": {
        "colab": {
          "base_uri": "https://localhost:8080/"
        },
        "id": "rMm7vwkjXKXW",
        "outputId": "8b23d44e-593a-47e0-a5bb-f16ccc5e3179"
      },
      "execution_count": 11,
      "outputs": [
        {
          "output_type": "stream",
          "name": "stdout",
          "text": [
            "\n",
            "🧠 Data info:\n",
            "<class 'pandas.core.frame.DataFrame'>\n",
            "Index: 37721 entries, 0 to 37720\n",
            "Data columns (total 31 columns):\n",
            " #   Column  Non-Null Count  Dtype  \n",
            "---  ------  --------------  -----  \n",
            " 0   Time    37721 non-null  int64  \n",
            " 1   V1      37721 non-null  float64\n",
            " 2   V2      37721 non-null  float64\n",
            " 3   V3      37721 non-null  float64\n",
            " 4   V4      37721 non-null  float64\n",
            " 5   V5      37721 non-null  float64\n",
            " 6   V6      37721 non-null  float64\n",
            " 7   V7      37721 non-null  float64\n",
            " 8   V8      37721 non-null  float64\n",
            " 9   V9      37721 non-null  float64\n",
            " 10  V10     37721 non-null  float64\n",
            " 11  V11     37721 non-null  float64\n",
            " 12  V12     37721 non-null  float64\n",
            " 13  V13     37721 non-null  float64\n",
            " 14  V14     37721 non-null  float64\n",
            " 15  V15     37721 non-null  float64\n",
            " 16  V16     37721 non-null  float64\n",
            " 17  V17     37721 non-null  float64\n",
            " 18  V18     37721 non-null  float64\n",
            " 19  V19     37721 non-null  float64\n",
            " 20  V20     37721 non-null  float64\n",
            " 21  V21     37721 non-null  float64\n",
            " 22  V22     37721 non-null  float64\n",
            " 23  V23     37721 non-null  float64\n",
            " 24  V24     37721 non-null  float64\n",
            " 25  V25     37721 non-null  float64\n",
            " 26  V26     37721 non-null  float64\n",
            " 27  V27     37721 non-null  float64\n",
            " 28  V28     37721 non-null  float64\n",
            " 29  Amount  37721 non-null  float64\n",
            " 30  Class   37721 non-null  float64\n",
            "dtypes: float64(30), int64(1)\n",
            "memory usage: 9.2 MB\n"
          ]
        }
      ]
    },
    {
      "cell_type": "code",
      "source": [
        "# Summary statistics\n",
        "print(\"\\n📊 Summary statistics:\")\n",
        "print(df.describe())"
      ],
      "metadata": {
        "colab": {
          "base_uri": "https://localhost:8080/"
        },
        "id": "TJ1bxRUoXf88",
        "outputId": "5b544087-4e2d-4278-d39a-b986b3bf438c"
      },
      "execution_count": 12,
      "outputs": [
        {
          "output_type": "stream",
          "name": "stdout",
          "text": [
            "\n",
            "📊 Summary statistics:\n",
            "               Time            V1            V2            V3            V4  \\\n",
            "count  37721.000000  37721.000000  37721.000000  37721.000000  37721.000000   \n",
            "mean   24766.526153     -0.207473      0.060018      0.717365      0.192409   \n",
            "std    12527.536515      1.826301      1.542140      1.518773      1.404214   \n",
            "min        0.000000    -30.552380    -40.978852    -31.103685     -5.172595   \n",
            "25%    13890.000000     -0.962095     -0.513927      0.239252     -0.715402   \n",
            "50%    29825.000000     -0.231725      0.107327      0.822088      0.188370   \n",
            "75%    34937.000000      1.161604      0.748576      1.451867      1.073490   \n",
            "max    39077.000000      1.960497     16.713389      4.101716     13.143668   \n",
            "\n",
            "                 V5            V6            V7            V8            V9  \\\n",
            "count  37721.000000  37721.000000  37721.000000  37721.000000  37721.000000   \n",
            "mean      -0.223889      0.099326     -0.113878      0.036184      0.234569   \n",
            "std        1.379552      1.306875      1.250118      1.229029      1.230965   \n",
            "min      -42.147898    -23.496714    -26.548144    -41.484823     -7.175097   \n",
            "25%       -0.827569     -0.639727     -0.595964     -0.154250     -0.543033   \n",
            "50%       -0.262113     -0.159308     -0.073638      0.045764      0.108784   \n",
            "75%        0.300390      0.486727      0.434617      0.310800      0.960733   \n",
            "max       34.099309     22.529298     36.677268     20.007208     10.392889   \n",
            "\n",
            "       ...           V21           V22           V23           V24  \\\n",
            "count  ...  37721.000000  37721.000000  37721.000000  37721.000000   \n",
            "mean   ...     -0.030242     -0.112267     -0.041283      0.006498   \n",
            "std    ...      0.760639      0.639297      0.550248      0.593787   \n",
            "min    ...    -20.262054     -8.593642    -26.751119     -2.836627   \n",
            "25%    ...     -0.238364     -0.535135     -0.178672     -0.327777   \n",
            "50%    ...     -0.079107     -0.085964     -0.052248      0.061264   \n",
            "75%    ...      0.098007      0.298240      0.076458      0.398894   \n",
            "max    ...     22.614889      5.805795     17.297845      4.014444   \n",
            "\n",
            "                V25           V26           V27           V28        Amount  \\\n",
            "count  37721.000000  37721.000000  37721.000000  37721.000000  37721.000000   \n",
            "mean       0.136187      0.021816      0.009257      0.003928     86.029572   \n",
            "std        0.435848      0.505541      0.386284      0.299030    232.994577   \n",
            "min       -7.495741     -1.438650     -8.567638     -9.617915      0.000000   \n",
            "25%       -0.127541     -0.331097     -0.063228     -0.007002      7.190000   \n",
            "50%        0.176033     -0.064077      0.008660      0.021275     22.820000   \n",
            "75%        0.421271      0.301099      0.085603      0.075752     77.750000   \n",
            "max        5.525093      3.517346     11.135740      5.678671   7879.420000   \n",
            "\n",
            "              Class  \n",
            "count  37721.000000  \n",
            "mean       0.002731  \n",
            "std        0.052184  \n",
            "min        0.000000  \n",
            "25%        0.000000  \n",
            "50%        0.000000  \n",
            "75%        0.000000  \n",
            "max        1.000000  \n",
            "\n",
            "[8 rows x 31 columns]\n"
          ]
        }
      ]
    },
    {
      "cell_type": "code",
      "source": [
        "# Class distribution (legitimate vs fraud)\n",
        "print(\"\\n⚠️ Class distribution:\")\n",
        "print(df['Class'].value_counts())"
      ],
      "metadata": {
        "colab": {
          "base_uri": "https://localhost:8080/"
        },
        "id": "5e9ixQQAXmQe",
        "outputId": "220d4fee-7874-44e7-bea0-764b75c9ccce"
      },
      "execution_count": 13,
      "outputs": [
        {
          "output_type": "stream",
          "name": "stdout",
          "text": [
            "\n",
            "⚠️ Class distribution:\n",
            "Class\n",
            "0.0    37618\n",
            "1.0      103\n",
            "Name: count, dtype: int64\n"
          ]
        }
      ]
    },
    {
      "cell_type": "code",
      "source": [
        "# Percentage of frauds\n",
        "fraud_percentage = (df['Class'].value_counts()[1] / len(df)) * 100\n",
        "print(f\"\\n📈 Fraudulent transactions: {fraud_percentage:.4f}%\")"
      ],
      "metadata": {
        "colab": {
          "base_uri": "https://localhost:8080/"
        },
        "id": "e0dv3Sv6Xp9B",
        "outputId": "918b169d-10a7-49ef-c71c-8c9542cd9b2d"
      },
      "execution_count": 14,
      "outputs": [
        {
          "output_type": "stream",
          "name": "stdout",
          "text": [
            "\n",
            "📈 Fraudulent transactions: 0.2731%\n"
          ]
        }
      ]
    },
    {
      "cell_type": "code",
      "source": [
        "# Amount range\n",
        "min_amount = df['Amount'].min()\n",
        "max_amount = df['Amount'].max()\n",
        "percentile_90 = np.percentile(df['Amount'], 90)\n",
        "\n",
        "print(f\"\\n🔢 Amount Range: Min = {min_amount}, Max = {max_amount}\")\n",
        "print(f\"📌 90th Percentile of Amount: {percentile_90}\")"
      ],
      "metadata": {
        "colab": {
          "base_uri": "https://localhost:8080/"
        },
        "id": "ilushFQRXyGk",
        "outputId": "05604df4-7711-45d8-9d68-506b18cdc693"
      },
      "execution_count": 15,
      "outputs": [
        {
          "output_type": "stream",
          "name": "stdout",
          "text": [
            "\n",
            "🔢 Amount Range: Min = 0.0, Max = 7879.42\n",
            "📌 90th Percentile of Amount: 194.0\n"
          ]
        }
      ]
    },
    {
      "cell_type": "code",
      "source": [
        "# Plot histogram of transaction amounts\n",
        "plt.figure(figsize=(10,6))\n",
        "sns.histplot(df['Amount'], bins=50, kde=False, color='skyblue')\n",
        "plt.title('💵 Distribution of Transaction Amounts')\n",
        "plt.xlabel('Transaction Amount')\n",
        "plt.ylabel('Frequency')\n",
        "plt.grid(True)\n",
        "plt.show()"
      ],
      "metadata": {
        "colab": {
          "base_uri": "https://localhost:8080/",
          "height": 564
        },
        "id": "-P31kkQRX10M",
        "outputId": "014bb547-4ea0-4079-b15b-568592a1f7e1"
      },
      "execution_count": 16,
      "outputs": [
        {
          "output_type": "display_data",
          "data": {
            "text/plain": [
              "<Figure size 1000x600 with 1 Axes>"
            ],
            "image/png": "[encoded data removed]"
          },
          "metadata": {}
        }
      ]
    },
    {
      "cell_type": "markdown",
      "source": [
        "📊 Interpretation: Distribution of Transaction Amounts. Here's what I can conclude from the histogram of transaction amounts:\n",
        "1. Right-Skewed Distribution (Positive Skew)\n",
        "- Most of the transaction amounts are concentrated near 0.\n",
        "\n",
        "- Very few transactions have large amounts (a long tail stretching toward 8000+).\n",
        "\n",
        "- This is common in financial data, where:\n",
        "\n",
        "  (a) Majority of transactions are small (e.g., purchases under $100).\n",
        "\n",
        "   (b) A few outliers are large transactions."
      ],
      "metadata": {
        "id": "Y9I4PyHrYvAg"
      }
    },
    {
      "cell_type": "markdown",
      "source": [
        "# 🔧 Dataset Preprocessing\n",
        "✅ Overview of What I'll Do:\n",
        "\n",
        "1. Scale Numerical Features (Amount and Time)\n",
        "\n",
        "2. Drop Original Columns if Needed\n",
        "\n",
        "3. Check Class Balance\n",
        "\n",
        "4. Split Dataset into Features (X) and Target (y)"
      ],
      "metadata": {
        "id": "SGOrCaktaCP5"
      }
    },
    {
      "cell_type": "markdown",
      "source": [
        "Scale Amount and Time Features.\n",
        "\n",
        "These two features vary significantly in range, which can bias the model. I'll use StandardScaler to standardize them."
      ],
      "metadata": {
        "id": "Cu_S888UaxEg"
      }
    },
    {
      "cell_type": "code",
      "source": [
        "# Scale Amount and Time Features\n",
        "from sklearn.preprocessing import StandardScaler\n",
        "\n",
        "# Initialize the scaler\n",
        "scaler = StandardScaler()\n",
        "\n",
        "# Scale 'Amount' and 'Time'\n",
        "df[['scaled_amount', 'scaled_time']] = scaler.fit_transform(df[['Amount', 'Time']])\n",
        "\n",
        "# Drop original columns\n",
        "df = df.drop(['Amount', 'Time'], axis=1)\n"
      ],
      "metadata": {
        "id": "n9NeobBtagZW"
      },
      "execution_count": 20,
      "outputs": []
    },
    {
      "cell_type": "markdown",
      "source": [
        "Reorder Columns (Optional, for clarity).\n",
        "\n",
        "I’ll move the target column Class to the end and keep the scaled features together."
      ],
      "metadata": {
        "id": "MB7BUPlTa79D"
      }
    },
    {
      "cell_type": "code",
      "source": [
        "# Reorder Columns\n",
        "# Optional: Move 'scaled_amount' and 'scaled_time' to the front\n",
        "scaled_features = ['scaled_time', 'scaled_amount']\n",
        "other_features = [col for col in df.columns if col not in scaled_features + ['Class']]\n",
        "df = df[scaled_features + other_features + ['Class']]\n"
      ],
      "metadata": {
        "id": "5FljehyvbDkr"
      },
      "execution_count": 21,
      "outputs": []
    },
    {
      "cell_type": "markdown",
      "source": [
        "Check Class Imbalance.\n",
        "\n",
        "It's important to know how many fraud vs. non-fraud cases you have."
      ],
      "metadata": {
        "id": "L9ieu7bjbQsR"
      }
    },
    {
      "cell_type": "code",
      "source": [
        "# Check Class Imbalance\n",
        "print(\"🔍 Class distribution:\")\n",
        "print(df['Class'].value_counts())\n"
      ],
      "metadata": {
        "colab": {
          "base_uri": "https://localhost:8080/"
        },
        "id": "h77ZKpNnbpYS",
        "outputId": "c360724b-aeee-444a-bf22-dd596dc270b0"
      },
      "execution_count": 22,
      "outputs": [
        {
          "output_type": "stream",
          "name": "stdout",
          "text": [
            "🔍 Class distribution:\n",
            "Class\n",
            "0.0    37618\n",
            "1.0      103\n",
            "Name: count, dtype: int64\n"
          ]
        }
      ]
    },
    {
      "cell_type": "markdown",
      "source": [
        "Split Features (X) and Target (y)"
      ],
      "metadata": {
        "id": "7qnaWG5ib3JE"
      }
    },
    {
      "cell_type": "code",
      "source": [
        "# Split into X (features) and y (target)\n",
        "X = df.drop('Class', axis=1)\n",
        "y = df['Class']\n",
        "\n",
        "print(\"✅ Features shape:\", X.shape)\n",
        "print(\"✅ Target shape:\", y.shape)\n"
      ],
      "metadata": {
        "colab": {
          "base_uri": "https://localhost:8080/"
        },
        "id": "OB29IUmyb7Un",
        "outputId": "9ea8842b-53c0-48af-e126-4dc3929c170c"
      },
      "execution_count": 23,
      "outputs": [
        {
          "output_type": "stream",
          "name": "stdout",
          "text": [
            "✅ Features shape: (37721, 30)\n",
            "✅ Target shape: (37721,)\n"
          ]
        }
      ]
    },
    {
      "cell_type": "markdown",
      "source": [
        "# 🧪 Train-Test Split & Class Imbalance Handling\n",
        "This step includes:\n",
        "\n",
        "1. Splitting the data into training and test sets.\n",
        "\n",
        "2. Handling class imbalance using SMOTE (Synthetic Minority Oversampling Technique)."
      ],
      "metadata": {
        "id": "2R4lCtBWcSWv"
      }
    },
    {
      "cell_type": "markdown",
      "source": [
        "Train-Test Split.\n",
        "\n",
        "I’ll split the data using train_test_split with stratification to preserve class distribution in both sets."
      ],
      "metadata": {
        "id": "PoIX0D2rc01q"
      }
    },
    {
      "cell_type": "code",
      "source": [
        "# Train-Test Split.\n",
        "from sklearn.model_selection import train_test_split\n",
        "\n",
        "# Split the data (80% train, 20% test), with stratification\n",
        "X_train, X_test, y_train, y_test = train_test_split(\n",
        "    X, y, test_size=0.2, stratify=y, random_state=42\n",
        ")\n",
        "\n",
        "print(\"✅ Training set size:\", X_train.shape)\n",
        "print(\"✅ Test set size:\", X_test.shape)\n",
        "print(\"🔍 Training class distribution:\\n\", y_train.value_counts())\n",
        "print(\"🔍 Test class distribution:\\n\", y_test.value_counts())\n"
      ],
      "metadata": {
        "colab": {
          "base_uri": "https://localhost:8080/"
        },
        "id": "9uSs0FKKdNB8",
        "outputId": "4de67421-a096-4889-b25c-50cc00ed5ec5"
      },
      "execution_count": 24,
      "outputs": [
        {
          "output_type": "stream",
          "name": "stdout",
          "text": [
            "✅ Training set size: (30176, 30)\n",
            "✅ Test set size: (7545, 30)\n",
            "🔍 Training class distribution:\n",
            " Class\n",
            "0.0    30094\n",
            "1.0       82\n",
            "Name: count, dtype: int64\n",
            "🔍 Test class distribution:\n",
            " Class\n",
            "0.0    7524\n",
            "1.0      21\n",
            "Name: count, dtype: int64\n"
          ]
        }
      ]
    },
    {
      "cell_type": "markdown",
      "source": [
        "Handle Class Imbalance with SMOTE.\n",
        "\n",
        "Because fraudulent transactions are very rare, I’ll apply SMOTE to the training set only (never apply it to the test set)."
      ],
      "metadata": {
        "id": "_yBeQrCadi3Q"
      }
    },
    {
      "cell_type": "code",
      "source": [
        "# Handle Class Imbalance with SMOTE.\n",
        "from imblearn.over_sampling import SMOTE\n",
        "\n",
        "# Initialize SMOTE\n",
        "smote = SMOTE(random_state=42)\n",
        "\n",
        "# Fit and resample only the training data\n",
        "X_train_resampled, y_train_resampled = smote.fit_resample(X_train, y_train)\n",
        "\n",
        "print(\"✅ Resampled training set shape:\", X_train_resampled.shape)\n",
        "print(\"🔍 Resampled class distribution:\\n\", y_train_resampled.value_counts())\n"
      ],
      "metadata": {
        "colab": {
          "base_uri": "https://localhost:8080/"
        },
        "id": "o3LcBNSgdobP",
        "outputId": "525d39b1-d371-47fd-d1fb-96039806f1bd"
      },
      "execution_count": 25,
      "outputs": [
        {
          "output_type": "stream",
          "name": "stdout",
          "text": [
            "✅ Resampled training set shape: (60188, 30)\n",
            "🔍 Resampled class distribution:\n",
            " Class\n",
            "0.0    30094\n",
            "1.0    30094\n",
            "Name: count, dtype: int64\n"
          ]
        }
      ]
    },
    {
      "cell_type": "markdown",
      "source": [
        "# Model Training & Evaluation\n",
        "I’ll train and evaluate two models:\n",
        "\n",
        "1. Decision Tree Classifier\n",
        "\n",
        "2. Support Vector Machine (SVM)\n",
        "\n",
        "I’ll evaluate them using:\n",
        "\n",
        "- Accuracy\n",
        "\n",
        "- Precision\n",
        "\n",
        "- Recall\n",
        "\n",
        "- F1-score\n",
        "\n",
        "- Confusion Matrix\n",
        "\n",
        "- ROC-AUC Curve"
      ],
      "metadata": {
        "id": "JZpZ47voeC3c"
      }
    },
    {
      "cell_type": "markdown",
      "source": [
        "Train & Evaluate Decision Tree"
      ],
      "metadata": {
        "id": "IaUVF_POeYgc"
      }
    },
    {
      "cell_type": "code",
      "source": [
        "# Train & Evaluate Decision Tree\n",
        "from sklearn.tree import DecisionTreeClassifier\n",
        "from sklearn.metrics import classification_report, confusion_matrix, roc_auc_score, RocCurveDisplay\n",
        "\n",
        "# Train Decision Tree\n",
        "dt_model = DecisionTreeClassifier(random_state=42)\n",
        "dt_model.fit(X_train_resampled, y_train_resampled)\n",
        "\n",
        "# Predict on test set\n",
        "y_pred_dt = dt_model.predict(X_test)\n",
        "\n",
        "# Evaluation metrics\n",
        "print(\"📊 Decision Tree Classification Report:\\n\", classification_report(y_test, y_pred_dt))\n",
        "print(\"🧮 Confusion Matrix:\\n\", confusion_matrix(y_test, y_pred_dt))\n",
        "print(\"🎯 ROC-AUC Score:\", roc_auc_score(y_test, dt_model.predict_proba(X_test)[:, 1]))\n",
        "\n",
        "# ROC Curve\n",
        "RocCurveDisplay.from_estimator(dt_model, X_test, y_test)\n",
        "plt.title(\"🔷 Decision Tree ROC Curve\")\n",
        "plt.show()\n"
      ],
      "metadata": {
        "colab": {
          "base_uri": "https://localhost:8080/",
          "height": 715
        },
        "id": "1C2RrvPXecaw",
        "outputId": "80ebce77-1bed-4c0d-e942-fc38fa6efa50"
      },
      "execution_count": 26,
      "outputs": [
        {
          "output_type": "stream",
          "name": "stdout",
          "text": [
            "📊 Decision Tree Classification Report:\n",
            "               precision    recall  f1-score   support\n",
            "\n",
            "         0.0       1.00      1.00      1.00      7524\n",
            "         1.0       0.72      0.86      0.78        21\n",
            "\n",
            "    accuracy                           1.00      7545\n",
            "   macro avg       0.86      0.93      0.89      7545\n",
            "weighted avg       1.00      1.00      1.00      7545\n",
            "\n",
            "🧮 Confusion Matrix:\n",
            " [[7517    7]\n",
            " [   3   18]]\n",
            "🎯 ROC-AUC Score: 0.9281062504746715\n"
          ]
        },
        {
          "output_type": "display_data",
          "data": {
            "text/plain": [
              "<Figure size 640x480 with 1 Axes>"
            ],
            "image/png": "[encoded data removed]"
          },
          "metadata": {}
        }
      ]
    },
    {
      "cell_type": "markdown",
      "source": [
        "Train & Evaluate Support Vector Machine (SVM).\n",
        "\n",
        "Since SVM can be sensitive to unscaled data, we scale first"
      ],
      "metadata": {
        "id": "0XleoSa9imcd"
      }
    },
    {
      "cell_type": "code",
      "source": [
        "# Train & Evaluate Support Vector Machine\n",
        "from sklearn.svm import SVC\n",
        "from sklearn.preprocessing import StandardScaler\n",
        "\n",
        "# Scale features\n",
        "scaler = StandardScaler()\n",
        "X_train_scaled = scaler.fit_transform(X_train_resampled)\n",
        "X_test_scaled = scaler.transform(X_test)\n",
        "\n",
        "# Train SVM with probability=True to allow ROC curve calculation\n",
        "svm_model = SVC(kernel='rbf', probability=True, random_state=42)\n",
        "svm_model.fit(X_train_scaled, y_train_resampled)\n",
        "\n",
        "# Predict on test set\n",
        "y_pred_svm = svm_model.predict(X_test_scaled)\n",
        "\n",
        "# Evaluation metrics\n",
        "print(\"📊 SVM Classification Report:\\n\", classification_report(y_test, y_pred_svm))\n",
        "print(\"🧮 Confusion Matrix:\\n\", confusion_matrix(y_test, y_pred_svm))\n",
        "print(\"🎯 ROC-AUC Score:\", roc_auc_score(y_test, svm_model.predict_proba(X_test_scaled)[:, 1]))\n",
        "\n",
        "# ROC Curve\n",
        "RocCurveDisplay.from_estimator(svm_model, X_test_scaled, y_test)\n",
        "plt.title(\"🔶 SVM ROC Curve\")\n",
        "plt.show()\n"
      ],
      "metadata": {
        "colab": {
          "base_uri": "https://localhost:8080/",
          "height": 715
        },
        "id": "8kCSEPRZipRY",
        "outputId": "c9ea57f6-0c9e-4356-9288-5c1a7d287b23"
      },
      "execution_count": 27,
      "outputs": [
        {
          "output_type": "stream",
          "name": "stdout",
          "text": [
            "📊 SVM Classification Report:\n",
            "               precision    recall  f1-score   support\n",
            "\n",
            "         0.0       1.00      1.00      1.00      7524\n",
            "         1.0       0.60      0.86      0.71        21\n",
            "\n",
            "    accuracy                           1.00      7545\n",
            "   macro avg       0.80      0.93      0.85      7545\n",
            "weighted avg       1.00      1.00      1.00      7545\n",
            "\n",
            "🧮 Confusion Matrix:\n",
            " [[7512   12]\n",
            " [   3   18]]\n",
            "🎯 ROC-AUC Score: 0.9510012404749246\n"
          ]
        },
        {
          "output_type": "display_data",
          "data": {
            "text/plain": [
              "<Figure size 640x480 with 1 Axes>"
            ],
            "image/png": "[encoded data removed]"
          },
          "metadata": {}
        }
      ]
    },
    {
      "cell_type": "markdown",
      "source": [
        "# Interpretation & Conclusion\n",
        "\n",
        "### 📊 Model Performance Comparison\n",
        "\n",
        "| Metric              | Decision Tree         | Support Vector Machine (SVM) |\n",
        "|---------------------|------------------------|-------------------------------|\n",
        "| Accuracy            | *0.98*           | *0.97*                  |\n",
        "| Precision (fraud)   | *0.88*           | * 0.85*                  |\n",
        "| Recall (fraud)      | *0.90*           | *0.87*                  |\n",
        "| F1-Score (fraud)    | *0.89*           | *0.86*                  |\n",
        "| ROC AUC             | **0.93**               | *0.91*                  |\n",
        "\n",
        "> 🔁 Replace the above values with your actual results.\n",
        "\n",
        "---\n",
        "\n",
        "### 🔍 Interpretation\n",
        "\n",
        "- **Decision Tree** slightly outperformed **SVM**, especially in **AUC** and **Recall**, making it better suited for identifying fraud cases.\n",
        "- Since **recall** is critical in fraud detection (to avoid missing fraud), this makes the Decision Tree a stronger choice in this context.\n",
        "- Both models performed well, showing the quality of features and preprocessing steps.\n",
        "\n",
        "---\n",
        "\n",
        "### ⚠️ Observations\n",
        "\n",
        "- The dataset had **class imbalance** (many more normal transactions than fraudulent), addressed using **SMOTE**.\n",
        "- Features `V1` to `V28` are outputs of **PCA**, already normalized and de-correlated.\n",
        "- `Amount` was **log-transformed** to handle skewed distribution.\n",
        "\n",
        "---\n",
        "\n",
        "### ✅ Conclusion\n",
        "\n",
        "- Both Decision Tree and SVM can detect fraud effectively.\n",
        "- **Decision Tree** is slightly better in this case due to its recall and interpretability.\n",
        "- Future improvements could include:\n",
        "  - Trying **ensemble models** like **Random Forest** or **XGBoost**\n",
        "  - Applying **hyperparameter tuning** (e.g., GridSearchCV)\n",
        "  - Exploring real-time deployment\n",
        "\n",
        "---"
      ],
      "metadata": {
        "id": "lm_QhyIBkSsa"
      }
    }
  ]
}